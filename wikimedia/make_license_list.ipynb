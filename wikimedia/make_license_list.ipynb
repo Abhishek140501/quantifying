{
 "cells": [
  {
   "cell_type": "code",
   "execution_count": 12,
   "id": "9445d25f-4f46-443f-903f-1c1e2976821a",
   "metadata": {},
   "outputs": [],
   "source": [
    "import pandas as pd\n",
    "import regex as re"
   ]
  },
  {
   "cell_type": "code",
   "execution_count": 13,
   "id": "0092a619-68ab-4c9f-8756-28b912a1b344",
   "metadata": {},
   "outputs": [
    {
     "data": {
      "text/html": [
       "<div>\n",
       "<style scoped>\n",
       "    .dataframe tbody tr th:only-of-type {\n",
       "        vertical-align: middle;\n",
       "    }\n",
       "\n",
       "    .dataframe tbody tr th {\n",
       "        vertical-align: top;\n",
       "    }\n",
       "\n",
       "    .dataframe thead th {\n",
       "        text-align: right;\n",
       "    }\n",
       "</style>\n",
       "<table border=\"1\" class=\"dataframe\">\n",
       "  <thead>\n",
       "    <tr style=\"text-align: right;\">\n",
       "      <th></th>\n",
       "      <th>LICENSE TYPE</th>\n",
       "      <th>File Count</th>\n",
       "    </tr>\n",
       "  </thead>\n",
       "  <tbody>\n",
       "    <tr>\n",
       "      <th>1</th>\n",
       "      <td>Free_Creative_Commons_licenses/CC-BY</td>\n",
       "      <td>3</td>\n",
       "    </tr>\n",
       "    <tr>\n",
       "      <th>2</th>\n",
       "      <td>Free_Creative_Commons_licenses/CC-BY/CC-BY-1.0</td>\n",
       "      <td>8915</td>\n",
       "    </tr>\n",
       "    <tr>\n",
       "      <th>3</th>\n",
       "      <td>Free_Creative_Commons_licenses/CC-BY/CC-BY-1.0...</td>\n",
       "      <td>8915</td>\n",
       "    </tr>\n",
       "    <tr>\n",
       "      <th>4</th>\n",
       "      <td>Free_Creative_Commons_licenses/CC-BY/CC-BY-1.0...</td>\n",
       "      <td>93</td>\n",
       "    </tr>\n",
       "    <tr>\n",
       "      <th>5</th>\n",
       "      <td>Free_Creative_Commons_licenses/CC-BY/CC-BY-1.0...</td>\n",
       "      <td>1</td>\n",
       "    </tr>\n",
       "    <tr>\n",
       "      <th>...</th>\n",
       "      <td>...</td>\n",
       "      <td>...</td>\n",
       "    </tr>\n",
       "    <tr>\n",
       "      <th>141</th>\n",
       "      <td>Free_Creative_Commons_licenses/CC-Zero/Images ...</td>\n",
       "      <td>39</td>\n",
       "    </tr>\n",
       "    <tr>\n",
       "      <th>142</th>\n",
       "      <td>Free_Creative_Commons_licenses/CC-Zero/Images ...</td>\n",
       "      <td>360</td>\n",
       "    </tr>\n",
       "    <tr>\n",
       "      <th>143</th>\n",
       "      <td>Free_Creative_Commons_licenses/CC-Zero/Images ...</td>\n",
       "      <td>202</td>\n",
       "    </tr>\n",
       "    <tr>\n",
       "      <th>144</th>\n",
       "      <td>Free_Creative_Commons_licenses/CC-Zero/Images ...</td>\n",
       "      <td>215</td>\n",
       "    </tr>\n",
       "    <tr>\n",
       "      <th>145</th>\n",
       "      <td>Free_Creative_Commons_licenses/CC-Zero/Images ...</td>\n",
       "      <td>210</td>\n",
       "    </tr>\n",
       "  </tbody>\n",
       "</table>\n",
       "<p>132 rows × 2 columns</p>\n",
       "</div>"
      ],
      "text/plain": [
       "                                          LICENSE TYPE  File Count\n",
       "1                 Free_Creative_Commons_licenses/CC-BY           3\n",
       "2       Free_Creative_Commons_licenses/CC-BY/CC-BY-1.0        8915\n",
       "3    Free_Creative_Commons_licenses/CC-BY/CC-BY-1.0...        8915\n",
       "4    Free_Creative_Commons_licenses/CC-BY/CC-BY-1.0...          93\n",
       "5    Free_Creative_Commons_licenses/CC-BY/CC-BY-1.0...           1\n",
       "..                                                 ...         ...\n",
       "141  Free_Creative_Commons_licenses/CC-Zero/Images ...          39\n",
       "142  Free_Creative_Commons_licenses/CC-Zero/Images ...         360\n",
       "143  Free_Creative_Commons_licenses/CC-Zero/Images ...         202\n",
       "144  Free_Creative_Commons_licenses/CC-Zero/Images ...         215\n",
       "145  Free_Creative_Commons_licenses/CC-Zero/Images ...         210\n",
       "\n",
       "[132 rows x 2 columns]"
      ]
     },
     "execution_count": 13,
     "metadata": {},
     "output_type": "execute_result"
    }
   ],
   "source": [
    "df = pd.read_csv(\"license_list.csv\")\n",
    "df = df[df[\"File Count\"] > 0]\n",
    "df"
   ]
  },
  {
   "cell_type": "code",
   "execution_count": 17,
   "id": "fe8e1eef-3d13-4932-9b78-0e9fdddd0de5",
   "metadata": {},
   "outputs": [
    {
     "ename": "AttributeError",
     "evalue": "'str' object has no attribute 'extract'",
     "output_type": "error",
     "traceback": [
      "\u001b[0;31m---------------------------------------------------------------------------\u001b[0m",
      "\u001b[0;31mAttributeError\u001b[0m                            Traceback (most recent call last)",
      "Input \u001b[0;32mIn [17]\u001b[0m, in \u001b[0;36m<cell line: 3>\u001b[0;34m()\u001b[0m\n\u001b[1;32m      1\u001b[0m x \u001b[38;5;241m=\u001b[39m \u001b[38;5;124m\"\u001b[39m\u001b[38;5;124mFree_Creative_Commons_licenses/CC-BY/CC-BY-1.0\u001b[39m\u001b[38;5;124m\"\u001b[39m\n\u001b[0;32m----> 3\u001b[0m y \u001b[38;5;241m=\u001b[39m \u001b[43mx\u001b[49m\u001b[38;5;241;43m.\u001b[39;49m\u001b[43mextract\u001b[49m(\u001b[38;5;124mr\u001b[39m\u001b[38;5;124m'\u001b[39m\u001b[38;5;124m(\u001b[39m\u001b[38;5;124m\"\u001b[39m\u001b[38;5;124m[^,]+)$\u001b[39m\u001b[38;5;124m\"\u001b[39m\u001b[38;5;124m)\u001b[39m\u001b[38;5;124m'\u001b[39m)\n\u001b[1;32m      4\u001b[0m y\n",
      "\u001b[0;31mAttributeError\u001b[0m: 'str' object has no attribute 'extract'"
     ]
    }
   ],
   "source": [
    "x = \"Free_Creative_Commons_licenses/CC-BY/CC-BY-1.0\"\n",
    "\n",
    "y = x.extract(r'(\"[^,]+)$\")')\n",
    "y"
   ]
  },
  {
   "cell_type": "code",
   "execution_count": null,
   "id": "c36d7801-40ac-49a8-9b90-6b3c448e12f1",
   "metadata": {},
   "outputs": [],
   "source": []
  }
 ],
 "metadata": {
  "kernelspec": {
   "display_name": "Python 3 (ipykernel)",
   "language": "python",
   "name": "python3"
  },
  "language_info": {
   "codemirror_mode": {
    "name": "ipython",
    "version": 3
   },
   "file_extension": ".py",
   "mimetype": "text/x-python",
   "name": "python",
   "nbconvert_exporter": "python",
   "pygments_lexer": "ipython3",
   "version": "3.9.12"
  }
 },
 "nbformat": 4,
 "nbformat_minor": 5
}
